{
 "cells": [
  {
   "cell_type": "markdown",
   "id": "af258301-0fbd-4a81-a763-cf9b0c1d36e0",
   "metadata": {},
   "source": [
    "# EUR-MXN Analysis"
   ]
  },
  {
   "cell_type": "code",
   "execution_count": 1,
   "id": "e12d6e7a-a566-49a5-a78e-7fc411a7278e",
   "metadata": {},
   "outputs": [],
   "source": [
    "import pandas as pd"
   ]
  },
  {
   "cell_type": "code",
   "execution_count": 2,
   "id": "cd10c0de-e9f8-4f70-a296-4a0561573f7b",
   "metadata": {},
   "outputs": [
    {
     "data": {
      "text/html": [
       "<div>\n",
       "<style scoped>\n",
       "    .dataframe tbody tr th:only-of-type {\n",
       "        vertical-align: middle;\n",
       "    }\n",
       "\n",
       "    .dataframe tbody tr th {\n",
       "        vertical-align: top;\n",
       "    }\n",
       "\n",
       "    .dataframe thead th {\n",
       "        text-align: right;\n",
       "    }\n",
       "</style>\n",
       "<table border=\"1\" class=\"dataframe\">\n",
       "  <thead>\n",
       "    <tr style=\"text-align: right;\">\n",
       "      <th></th>\n",
       "      <th>date</th>\n",
       "      <th>origin</th>\n",
       "      <th>destination</th>\n",
       "      <th>currency_code</th>\n",
       "      <th>minimum_price</th>\n",
       "      <th>first_quartile_price</th>\n",
       "      <th>median_price</th>\n",
       "      <th>third_quartile_price</th>\n",
       "      <th>maximum_price</th>\n",
       "      <th>EURMXN=X_Close</th>\n",
       "      <th>EURTRY=X_Close</th>\n",
       "      <th>EURUSD=X_Close</th>\n",
       "    </tr>\n",
       "  </thead>\n",
       "  <tbody>\n",
       "    <tr>\n",
       "      <th>0</th>\n",
       "      <td>2019-01-01</td>\n",
       "      <td>MAD</td>\n",
       "      <td>MEX</td>\n",
       "      <td>USD</td>\n",
       "      <td>103.95</td>\n",
       "      <td>1160.14</td>\n",
       "      <td>1365.88</td>\n",
       "      <td>1736.12</td>\n",
       "      <td>1856.57</td>\n",
       "      <td>22.524000</td>\n",
       "      <td>6.04694</td>\n",
       "      <td>1.149306</td>\n",
       "    </tr>\n",
       "    <tr>\n",
       "      <th>1</th>\n",
       "      <td>2019-01-02</td>\n",
       "      <td>MAD</td>\n",
       "      <td>MEX</td>\n",
       "      <td>USD</td>\n",
       "      <td>103.95</td>\n",
       "      <td>1160.14</td>\n",
       "      <td>1365.88</td>\n",
       "      <td>1736.12</td>\n",
       "      <td>1856.57</td>\n",
       "      <td>22.495399</td>\n",
       "      <td>6.05707</td>\n",
       "      <td>1.146171</td>\n",
       "    </tr>\n",
       "    <tr>\n",
       "      <th>2</th>\n",
       "      <td>2019-01-03</td>\n",
       "      <td>MAD</td>\n",
       "      <td>MEX</td>\n",
       "      <td>USD</td>\n",
       "      <td>103.95</td>\n",
       "      <td>1160.14</td>\n",
       "      <td>1365.88</td>\n",
       "      <td>1736.12</td>\n",
       "      <td>1856.57</td>\n",
       "      <td>22.207001</td>\n",
       "      <td>6.21404</td>\n",
       "      <td>1.131811</td>\n",
       "    </tr>\n",
       "    <tr>\n",
       "      <th>3</th>\n",
       "      <td>2019-01-04</td>\n",
       "      <td>NaN</td>\n",
       "      <td>NaN</td>\n",
       "      <td>NaN</td>\n",
       "      <td>NaN</td>\n",
       "      <td>NaN</td>\n",
       "      <td>NaN</td>\n",
       "      <td>NaN</td>\n",
       "      <td>NaN</td>\n",
       "      <td>22.341801</td>\n",
       "      <td>6.22648</td>\n",
       "      <td>1.139108</td>\n",
       "    </tr>\n",
       "    <tr>\n",
       "      <th>4</th>\n",
       "      <td>2019-01-05</td>\n",
       "      <td>NaN</td>\n",
       "      <td>NaN</td>\n",
       "      <td>NaN</td>\n",
       "      <td>NaN</td>\n",
       "      <td>NaN</td>\n",
       "      <td>NaN</td>\n",
       "      <td>NaN</td>\n",
       "      <td>NaN</td>\n",
       "      <td>NaN</td>\n",
       "      <td>NaN</td>\n",
       "      <td>NaN</td>\n",
       "    </tr>\n",
       "  </tbody>\n",
       "</table>\n",
       "</div>"
      ],
      "text/plain": [
       "         date origin destination currency_code  minimum_price  \\\n",
       "0  2019-01-01    MAD         MEX           USD         103.95   \n",
       "1  2019-01-02    MAD         MEX           USD         103.95   \n",
       "2  2019-01-03    MAD         MEX           USD         103.95   \n",
       "3  2019-01-04    NaN         NaN           NaN            NaN   \n",
       "4  2019-01-05    NaN         NaN           NaN            NaN   \n",
       "\n",
       "   first_quartile_price  median_price  third_quartile_price  maximum_price  \\\n",
       "0               1160.14       1365.88               1736.12        1856.57   \n",
       "1               1160.14       1365.88               1736.12        1856.57   \n",
       "2               1160.14       1365.88               1736.12        1856.57   \n",
       "3                   NaN           NaN                   NaN            NaN   \n",
       "4                   NaN           NaN                   NaN            NaN   \n",
       "\n",
       "   EURMXN=X_Close  EURTRY=X_Close  EURUSD=X_Close  \n",
       "0       22.524000         6.04694        1.149306  \n",
       "1       22.495399         6.05707        1.146171  \n",
       "2       22.207001         6.21404        1.131811  \n",
       "3       22.341801         6.22648        1.139108  \n",
       "4             NaN             NaN             NaN  "
      ]
     },
     "execution_count": 2,
     "metadata": {},
     "output_type": "execute_result"
    }
   ],
   "source": [
    "madmex = pd.read_csv(\"madmex.csv\")\n",
    "madmex.head()"
   ]
  },
  {
   "cell_type": "code",
   "execution_count": 4,
   "id": "828aafd7-ae48-4c92-ad6a-82eaf9974cb9",
   "metadata": {},
   "outputs": [
    {
     "data": {
      "text/html": [
       "<div>\n",
       "<style scoped>\n",
       "    .dataframe tbody tr th:only-of-type {\n",
       "        vertical-align: middle;\n",
       "    }\n",
       "\n",
       "    .dataframe tbody tr th {\n",
       "        vertical-align: top;\n",
       "    }\n",
       "\n",
       "    .dataframe thead th {\n",
       "        text-align: right;\n",
       "    }\n",
       "</style>\n",
       "<table border=\"1\" class=\"dataframe\">\n",
       "  <thead>\n",
       "    <tr style=\"text-align: right;\">\n",
       "      <th></th>\n",
       "      <th>date</th>\n",
       "      <th>origin</th>\n",
       "      <th>destination</th>\n",
       "      <th>currency_code</th>\n",
       "      <th>minimum_price</th>\n",
       "      <th>first_quartile_price</th>\n",
       "      <th>median_price</th>\n",
       "      <th>third_quartile_price</th>\n",
       "      <th>maximum_price</th>\n",
       "      <th>EURMXN=X_Close</th>\n",
       "      <th>EURTRY=X_Close</th>\n",
       "      <th>EURUSD=X_Close</th>\n",
       "    </tr>\n",
       "  </thead>\n",
       "  <tbody>\n",
       "    <tr>\n",
       "      <th>0</th>\n",
       "      <td>2019-01-01</td>\n",
       "      <td>MAD</td>\n",
       "      <td>IST</td>\n",
       "      <td>USD</td>\n",
       "      <td>90.9</td>\n",
       "      <td>414.03</td>\n",
       "      <td>432.05</td>\n",
       "      <td>450.17</td>\n",
       "      <td>513.21</td>\n",
       "      <td>22.524000</td>\n",
       "      <td>6.04694</td>\n",
       "      <td>1.149306</td>\n",
       "    </tr>\n",
       "    <tr>\n",
       "      <th>1</th>\n",
       "      <td>2019-01-02</td>\n",
       "      <td>MAD</td>\n",
       "      <td>IST</td>\n",
       "      <td>USD</td>\n",
       "      <td>90.9</td>\n",
       "      <td>414.03</td>\n",
       "      <td>432.05</td>\n",
       "      <td>450.17</td>\n",
       "      <td>513.21</td>\n",
       "      <td>22.495399</td>\n",
       "      <td>6.05707</td>\n",
       "      <td>1.146171</td>\n",
       "    </tr>\n",
       "    <tr>\n",
       "      <th>2</th>\n",
       "      <td>2019-01-03</td>\n",
       "      <td>NaN</td>\n",
       "      <td>NaN</td>\n",
       "      <td>NaN</td>\n",
       "      <td>NaN</td>\n",
       "      <td>NaN</td>\n",
       "      <td>NaN</td>\n",
       "      <td>NaN</td>\n",
       "      <td>NaN</td>\n",
       "      <td>22.207001</td>\n",
       "      <td>6.21404</td>\n",
       "      <td>1.131811</td>\n",
       "    </tr>\n",
       "    <tr>\n",
       "      <th>3</th>\n",
       "      <td>2019-01-04</td>\n",
       "      <td>MAD</td>\n",
       "      <td>IST</td>\n",
       "      <td>USD</td>\n",
       "      <td>90.9</td>\n",
       "      <td>414.03</td>\n",
       "      <td>432.05</td>\n",
       "      <td>450.17</td>\n",
       "      <td>513.21</td>\n",
       "      <td>22.341801</td>\n",
       "      <td>6.22648</td>\n",
       "      <td>1.139108</td>\n",
       "    </tr>\n",
       "    <tr>\n",
       "      <th>4</th>\n",
       "      <td>2019-01-05</td>\n",
       "      <td>NaN</td>\n",
       "      <td>NaN</td>\n",
       "      <td>NaN</td>\n",
       "      <td>NaN</td>\n",
       "      <td>NaN</td>\n",
       "      <td>NaN</td>\n",
       "      <td>NaN</td>\n",
       "      <td>NaN</td>\n",
       "      <td>NaN</td>\n",
       "      <td>NaN</td>\n",
       "      <td>NaN</td>\n",
       "    </tr>\n",
       "  </tbody>\n",
       "</table>\n",
       "</div>"
      ],
      "text/plain": [
       "         date origin destination currency_code  minimum_price  \\\n",
       "0  2019-01-01    MAD         IST           USD           90.9   \n",
       "1  2019-01-02    MAD         IST           USD           90.9   \n",
       "2  2019-01-03    NaN         NaN           NaN            NaN   \n",
       "3  2019-01-04    MAD         IST           USD           90.9   \n",
       "4  2019-01-05    NaN         NaN           NaN            NaN   \n",
       "\n",
       "   first_quartile_price  median_price  third_quartile_price  maximum_price  \\\n",
       "0                414.03        432.05                450.17         513.21   \n",
       "1                414.03        432.05                450.17         513.21   \n",
       "2                   NaN           NaN                   NaN            NaN   \n",
       "3                414.03        432.05                450.17         513.21   \n",
       "4                   NaN           NaN                   NaN            NaN   \n",
       "\n",
       "   EURMXN=X_Close  EURTRY=X_Close  EURUSD=X_Close  \n",
       "0       22.524000         6.04694        1.149306  \n",
       "1       22.495399         6.05707        1.146171  \n",
       "2       22.207001         6.21404        1.131811  \n",
       "3       22.341801         6.22648        1.139108  \n",
       "4             NaN             NaN             NaN  "
      ]
     },
     "execution_count": 4,
     "metadata": {},
     "output_type": "execute_result"
    }
   ],
   "source": [
    "madist = pd.read_csv(\"madist.csv\")\n",
    "madist.head()"
   ]
  },
  {
   "cell_type": "code",
   "execution_count": 5,
   "id": "d196a0d8-883f-4992-a030-b91f7a48dbe7",
   "metadata": {},
   "outputs": [
    {
     "data": {
      "text/plain": [
       "<Axes: >"
      ]
     },
     "execution_count": 5,
     "metadata": {},
     "output_type": "execute_result"
    },
    {
     "data": {
      "image/png": "[encoded data removed]",
      "text/plain": [
       "<Figure size 640x480 with 1 Axes>"
      ]
     },
     "metadata": {},
     "output_type": "display_data"
    }
   ],
   "source": [
    "madmex['EURMXN=X_Close'].plot()"
   ]
  },
  {
   "cell_type": "code",
   "execution_count": 7,
   "id": "3a45fe56-2633-43f8-9723-89e8197aaed1",
   "metadata": {},
   "outputs": [
    {
     "data": {
      "text/plain": [
       "<Axes: >"
      ]
     },
     "execution_count": 7,
     "metadata": {},
     "output_type": "execute_result"
    },
    {
     "data": {
      "image/png": "[encoded data removed]",
      "text/plain": [
       "<Figure size 640x480 with 1 Axes>"
      ]
     },
     "metadata": {},
     "output_type": "display_data"
    }
   ],
   "source": [
    "madmex['EURTRY=X_Close'].plot()"
   ]
  },
  {
   "cell_type": "code",
   "execution_count": null,
   "id": "1111bace-303b-46cc-9f35-f9861a8c27f1",
   "metadata": {},
   "outputs": [],
   "source": [
    "madmex['EURTRY=X_Close']"
   ]
  }
 ],
 "metadata": {
  "kernelspec": {
   "display_name": "Python 3 (ipykernel)",
   "language": "python",
   "name": "python3"
  },
  "language_info": {
   "codemirror_mode": {
    "name": "ipython",
    "version": 3
   },
   "file_extension": ".py",
   "mimetype": "text/x-python",
   "name": "python",
   "nbconvert_exporter": "python",
   "pygments_lexer": "ipython3",
   "version": "3.11.5"
  }
 },
 "nbformat": 4,
 "nbformat_minor": 5
}
